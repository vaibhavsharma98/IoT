{
  "nbformat": 4,
  "nbformat_minor": 0,
  "metadata": {
    "colab": {
      "name": "TaskDay1.ipynb",
      "provenance": [],
      "collapsed_sections": [],
      "authorship_tag": "ABX9TyNBaei1EwKMVSz6hX6Z2Z7O",
      "include_colab_link": true
    },
    "kernelspec": {
      "name": "python3",
      "display_name": "Python 3"
    }
  },
  "cells": [
    {
      "cell_type": "markdown",
      "metadata": {
        "id": "view-in-github",
        "colab_type": "text"
      },
      "source": [
        "<a href=\"https://colab.research.google.com/github/vaibhavsharma98/IoT/blob/master/TaskDay1.ipynb\" target=\"_parent\"><img src=\"https://colab.research.google.com/assets/colab-badge.svg\" alt=\"Open In Colab\"/></a>"
      ]
    },
    {
      "cell_type": "code",
      "metadata": {
        "id": "ulIfoh2vEWdX",
        "colab_type": "code",
        "colab": {
          "base_uri": "https://localhost:8080/",
          "height": 51
        },
        "outputId": "a2915341-73a4-4eb2-dcb0-6f0cca3f0913"
      },
      "source": [
        "num= int(input())\n",
        "for i in range(2,num):\n",
        "  if (num%i)==0:\n",
        "    print('number is not prime')\n",
        "    break\n",
        "  else:\n",
        "     print('prime')\n",
        "     break"
      ],
      "execution_count": 7,
      "outputs": [
        {
          "output_type": "stream",
          "text": [
            "5\n",
            "prime\n"
          ],
          "name": "stdout"
        }
      ]
    },
    {
      "cell_type": "code",
      "metadata": {
        "id": "N5eBhIJzE2x-",
        "colab_type": "code",
        "colab": {
          "base_uri": "https://localhost:8080/",
          "height": 51
        },
        "outputId": "826d8d3e-f195-4cf4-d81e-b6871a55e95e"
      },
      "source": [
        "marks= int(input())\n",
        "if (marks>60):\n",
        " print('Ist Division')\n",
        "elif (marks<45):\n",
        "  print('IIIrd Division')\n",
        "else: \n",
        "  print('IInd division') "
      ],
      "execution_count": 15,
      "outputs": [
        {
          "output_type": "stream",
          "text": [
            "47\n",
            "IInd division\n"
          ],
          "name": "stdout"
        }
      ]
    },
    {
      "cell_type": "code",
      "metadata": {
        "id": "Q6dxZKycG5z4",
        "colab_type": "code",
        "colab": {
          "base_uri": "https://localhost:8080/",
          "height": 119
        },
        "outputId": "b68a9d73-98d6-41f6-cad1-150fc3ab0000"
      },
      "source": [
        " \n",
        " for num in range(0,200):\n",
        "   if (num%7)==0 and (num%5)==0:\n",
        "     print(num)"
      ],
      "execution_count": 18,
      "outputs": [
        {
          "output_type": "stream",
          "text": [
            "0\n",
            "35\n",
            "70\n",
            "105\n",
            "140\n",
            "175\n"
          ],
          "name": "stdout"
        }
      ]
    },
    {
      "cell_type": "code",
      "metadata": {
        "id": "tp7yx_XZSVxH",
        "colab_type": "code",
        "colab": {}
      },
      "source": [
        ""
      ],
      "execution_count": 0,
      "outputs": []
    }
  ]
}